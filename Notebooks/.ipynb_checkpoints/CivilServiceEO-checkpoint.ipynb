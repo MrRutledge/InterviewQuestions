{
 "cells": [
  {
   "cell_type": "markdown",
   "metadata": {},
   "source": [
    "### Questions in the Civil service stat role "
   ]
  },
  {
   "cell_type": "markdown",
   "metadata": {},
   "source": [
    "#### Numerical aptitude test \n",
    "\n",
    "\n",
    "### Question .0\n",
    "![](../NumericalAptitudeQuestions/StaticQuestion/Capture.PNG)\n",
    "### Question .1\n",
    "![](../NumericalAptitudeQuestions/StaticQuestion/Capture01.PNG)\n",
    "### Question .2\n",
    "![](../NumericalAptitudeQuestions/StaticQuestion/Capture02.PNG)\n",
    "### Question .3\n",
    "![](../NumericalAptitudeQuestions/StaticQuestion/Capture03.PNG)\n",
    "### Question .4\n",
    "![](../NumericalAptitudeQuestions/StaticQuestion/Capture04.PNG)\n",
    "### Question .5\n",
    "![](../NumericalAptitudeQuestions/StaticQuestion/Capture5.PNG)\n",
    "### Question .6\n",
    "![](../NumericalAptitudeQuestions/StaticQuestion/Capture06.PNG)\n",
    "### Question .7\n",
    "![](../NumericalAptitudeQuestions/StaticQuestion/Capture07.PNG)\n",
    "### Question .8\n",
    "![](../NumericalAptitudeQuestions/StaticQuestion/Capture08.PNG)\n",
    "### Question .9\n",
    "![](../NumericalAptitudeQuestions/StaticQuestion/Capture09.PNG)\n",
    "### Question .10\n",
    "![](../NumericalAptitudeQuestions/StaticQuestion/Capture10.PNG)\n",
    "### Question .11\n",
    "![](../NumericalAptitudeQuestions/StaticQuestion/Capture11.PNG)\n",
    "### Question .12\n",
    "![](../NumericalAptitudeQuestions/StaticQuestion/Capture12.PNG)\n",
    "### Question .13\n",
    "![](../NumericalAptitudeQuestions/StaticQuestion/Capture13.PNG)\n",
    "### Question .14\n",
    "![](../NumericalAptitudeQuestions/StaticQuestion/Capture14.PNG)\n",
    "### Question .15\n",
    "![](../NumericalAptitudeQuestions/StaticQuestion/Capture15.PNG)\n",
    "### Question .16\n",
    "![](../NumericalAptitudeQuestions/StaticQuestion/Capture16.PNG)\n",
    "### Question .17\n",
    "![](../NumericalAptitudeQuestions/StaticQuestion/Capture17.PNG)\n",
    "### Question .18\n",
    "![](../NumericalAptitudeQuestions/StaticQuestion/Capture18.PNG)\n",
    "### Question .19\n",
    "![](../NumericalAptitudeQuestions/StaticQuestion/Capture19.PNG)\n",
    "### Question .20\n",
    "![](../NumericalAptitudeQuestions/StaticQuestion/Capture20.PNG)\n",
    "### Question .21\n",
    "![](../NumericalAptitudeQuestions/StaticQuestion/Capture21.PNG)\n",
    "### Question .22\n",
    "![](../NumericalAptitudeQuestions/StaticQuestion/Capture22.PNG)\n",
    "### Question .23\n",
    "![](../NumericalAptitudeQuestions/StaticQuestion/Capture23.PNG)\n",
    "### Question .24\n",
    "![](../NumericalAptitudeQuestions/StaticQuestion/Capture24.PNG)\n",
    "### Question .25\n",
    "![](../NumericalAptitudeQuestions/StaticQuestion/Capture25.PNG)\n"
   ]
  },
  {
   "cell_type": "code",
   "execution_count": null,
   "metadata": {},
   "outputs": [],
   "source": []
  }
 ],
 "metadata": {
  "kernelspec": {
   "display_name": "Python 3",
   "language": "python",
   "name": "python3"
  },
  "language_info": {
   "codemirror_mode": {
    "name": "ipython",
    "version": 3
   },
   "file_extension": ".py",
   "mimetype": "text/x-python",
   "name": "python",
   "nbconvert_exporter": "python",
   "pygments_lexer": "ipython3",
   "version": "3.7.2"
  }
 },
 "nbformat": 4,
 "nbformat_minor": 2
}
