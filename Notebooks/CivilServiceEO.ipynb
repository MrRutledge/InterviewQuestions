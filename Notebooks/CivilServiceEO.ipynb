{
 "cells": [
  {
   "cell_type": "markdown",
   "metadata": {},
   "source": [
    "### Questions in the Civil service stat role "
   ]
  },
  {
   "cell_type": "markdown",
   "metadata": {},
   "source": [
    "#### Numerical aptitude test \n",
    "\n",
    "### Question .0\n",
    "![](../NumericalAptitudeQuestions/StaticQuestion/Capture.png)\n",
    "### Question .1\n",
    "![](../NumericalAptitudeQuestions/StaticQuestion/Capture01.png)\n",
    "### Question .2\n",
    "![](../NumericalAptitudeQuestions/StaticQuestion/Capture02.png)\n",
    "### Question .3\n",
    "![](../NumericalAptitudeQuestions/StaticQuestion/Capture03.png)\n",
    "### Question .4\n",
    "![](../NumericalAptitudeQuestions/StaticQuestion/Capture04.png)\n",
    "### Question .5\n",
    "![](../NumericalAptitudeQuestions/StaticQuestion/Capture5.png)\n",
    "### Question .6\n",
    "![](../NumericalAptitudeQuestions/StaticQuestion/Capture06.png)\n",
    "### Question .7\n",
    "![](../NumericalAptitudeQuestions/StaticQuestion/Capture07.png)\n",
    "### Question .8\n",
    "![](../NumericalAptitudeQuestions/StaticQuestion/Capture08.png)\n",
    "### Question .9\n",
    "![](../NumericalAptitudeQuestions/StaticQuestion/Capture09.png)\n",
    "### Question .10\n",
    "![](../NumericalAptitudeQuestions/StaticQuestion/Capture10.png)\n",
    "### Question .11\n",
    "![](../NumericalAptitudeQuestions/StaticQuestion/Capture11.png)\n",
    "### Question .12\n",
    "![](../NumericalAptitudeQuestions/StaticQuestion/Capture12.png)\n",
    "### Question .13\n",
    "![](../NumericalAptitudeQuestions/StaticQuestion/Capture13.png)\n",
    "### Question .14\n",
    "![](../NumericalAptitudeQuestions/StaticQuestion/Capture14.png)\n",
    "### Question .15\n",
    "![](../NumericalAptitudeQuestions/StaticQuestion/Capture15.png)\n",
    "### Question .16\n",
    "![](../NumericalAptitudeQuestions/StaticQuestion/Capture16.png)\n",
    "### Question .17\n",
    "![](../NumericalAptitudeQuestions/StaticQuestion/Capture17.png)\n",
    "### Question .18\n",
    "![](../NumericalAptitudeQuestions/StaticQuestion/Capture18.png)\n",
    "### Question .19\n",
    "![](../NumericalAptitudeQuestions/StaticQuestion/Capture19.png)\n",
    "### Question .20\n",
    "![](../NumericalAptitudeQuestions/StaticQuestion/Capture20.png)\n",
    "### Question .21\n",
    "![](../NumericalAptitudeQuestions/StaticQuestion/Capture21.png)\n",
    "### Question .22\n",
    "![](../NumericalAptitudeQuestions/StaticQuestion/Capture22.png)\n",
    "### Question .23\n",
    "![](../NumericalAptitudeQuestions/StaticQuestion/Capture23.png)\n",
    "### Question .24\n",
    "![](../NumericalAptitudeQuestions/StaticQuestion/Capture24.png)\n",
    "### Question .25\n",
    "![](../NumericalAptitudeQuestions/StaticQuestion/Capture25.png)\n"
   ]
  },
  {
   "cell_type": "code",
   "execution_count": null,
   "metadata": {},
   "outputs": [],
   "source": []
  }
 ],
 "metadata": {
  "kernelspec": {
   "display_name": "Python 3",
   "language": "python",
   "name": "python3"
  },
  "language_info": {
   "codemirror_mode": {
    "name": "ipython",
    "version": 3
   },
   "file_extension": ".py",
   "mimetype": "text/x-python",
   "name": "python",
   "nbconvert_exporter": "python",
   "pygments_lexer": "ipython3",
   "version": "3.7.2"
  }
 },
 "nbformat": 4,
 "nbformat_minor": 2
}
